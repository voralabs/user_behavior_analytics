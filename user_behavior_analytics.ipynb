{
  "nbformat": 4,
  "nbformat_minor": 0,
  "metadata": {
    "colab": {
      "provenance": [],
      "collapsed_sections": []
    },
    "kernelspec": {
      "name": "python3",
      "display_name": "Python 3"
    },
    "language_info": {
      "name": "python"
    }
  },
  "cells": [
    {
      "cell_type": "code",
      "execution_count": 1,
      "metadata": {
        "id": "aVOQXmy6Uyi3",
        "colab": {
          "base_uri": "https://localhost:8080/",
          "height": 17
        },
        "outputId": "082378e5-758a-47b3-ab0e-ffcdc94eac15"
      },
      "outputs": [
        {
          "output_type": "display_data",
          "data": {
            "text/html": [
              "        <script type=\"text/javascript\">\n",
              "        window.PlotlyConfig = {MathJaxConfig: 'local'};\n",
              "        if (window.MathJax) {MathJax.Hub.Config({SVG: {font: \"STIX-Web\"}});}\n",
              "        if (typeof require !== 'undefined') {\n",
              "        require.undef(\"plotly\");\n",
              "        requirejs.config({\n",
              "            paths: {\n",
              "                'plotly': ['https://cdn.plot.ly/plotly-2.8.3.min']\n",
              "            }\n",
              "        });\n",
              "        require(['plotly'], function(Plotly) {\n",
              "            window._Plotly = Plotly;\n",
              "        });\n",
              "        }\n",
              "        </script>\n",
              "        "
            ]
          },
          "metadata": {}
        },
        {
          "output_type": "display_data",
          "data": {
            "text/html": [
              "        <script type=\"text/javascript\">\n",
              "        window.PlotlyConfig = {MathJaxConfig: 'local'};\n",
              "        if (window.MathJax) {MathJax.Hub.Config({SVG: {font: \"STIX-Web\"}});}\n",
              "        if (typeof require !== 'undefined') {\n",
              "        require.undef(\"plotly\");\n",
              "        requirejs.config({\n",
              "            paths: {\n",
              "                'plotly': ['https://cdn.plot.ly/plotly-2.8.3.min']\n",
              "            }\n",
              "        });\n",
              "        require(['plotly'], function(Plotly) {\n",
              "            window._Plotly = Plotly;\n",
              "        });\n",
              "        }\n",
              "        </script>\n",
              "        "
            ]
          },
          "metadata": {}
        }
      ],
      "source": [
        "import numpy as np # linear algebra\n",
        "import pandas as pd # data processing, CSV file I/O (e.g. pd.read_csv)\n",
        "import datetime\n",
        "import copy\n",
        "import plotly.express as px\n",
        "import plotly.graph_objects as go\n",
        "import cufflinks\n",
        "cufflinks.go_offline()\n",
        "cufflinks.set_config_file(world_readable = True, theme = 'pearl', offline = True)"
      ]
    },
    {
      "cell_type": "markdown",
      "source": [
        "Import data"
      ],
      "metadata": {
        "id": "l3xMFehQqKtA"
      }
    },
    {
      "cell_type": "code",
      "source": [
        "data = pd.read_csv()\n",
        "data.head()"
      ],
      "metadata": {
        "id": "g9S40UtEU9Ds"
      },
      "execution_count": null,
      "outputs": []
    },
    {
      "cell_type": "code",
      "source": [
        "data.info()"
      ],
      "metadata": {
        "id": "dWy_rGElU3_N"
      },
      "execution_count": null,
      "outputs": []
    },
    {
      "cell_type": "markdown",
      "source": [
        "Memory usage"
      ],
      "metadata": {
        "id": "seFPEz6At1mF"
      }
    },
    {
      "cell_type": "code",
      "source": [
        "data.info(memory_usage = 'deep')"
      ],
      "metadata": {
        "id": "UMxV1Iv2qTnl"
      },
      "execution_count": null,
      "outputs": []
    },
    {
      "cell_type": "markdown",
      "source": [
        "Removing columns that are of not much use"
      ],
      "metadata": {
        "id": "0lF3NUV-t-aD"
      }
    },
    {
      "cell_type": "code",
      "source": [
        "data = data.drop(['order_id', 'page_id'], axis = 1)\n",
        "data.info(memory_usage = 'deep')"
      ],
      "metadata": {
        "id": "zow14yjzuB47"
      },
      "execution_count": null,
      "outputs": []
    },
    {
      "cell_type": "markdown",
      "source": [
        "Understanding what target column stands for"
      ],
      "metadata": {
        "id": "JMNRcILXuTCb"
      }
    },
    {
      "cell_type": "code",
      "source": [
        "print('target column unique values: ', data.target.unique())\n",
        "print('-----------------------------------------------------')\n",
        "print('target column in the dataframe = 0')\n",
        "print(data[data.target == 0])\n",
        "print('-----------------------------------------------------')\n",
        "print('target column in the dataframe = 1')\n",
        "print(data[data.target == 1])"
      ],
      "metadata": {
        "id": "JHg_CaIHuZle"
      },
      "execution_count": null,
      "outputs": []
    },
    {
      "cell_type": "markdown",
      "source": [
        "It looks like target is 0 for banner_show and banner_click and target is 1 for order in title columns. Checking hypothesis"
      ],
      "metadata": {
        "id": "ohbf7GOSui8N"
      }
    },
    {
      "cell_type": "code",
      "source": [
        "print('Is there target is 1 for banner_show and banner_click in title column')\n",
        "if data[(data.target == 1)&((data.title == 'banner_show')|(data.title == 'banner_click'))].empty == True:\n",
        "    print('There are not such rows in the dataframe')\n",
        "else:\n",
        "    data[(data.target == 1)&((data.title == 'banner_show')|(data.title == 'banner_click'))]\n",
        "print('Is there target is 0 for order in title column')\n",
        "if data[(data.target == 0)&(data.title == 'order')].empty == True:\n",
        "    print('There are not such rows in the dataframe')\n",
        "else:\n",
        "    data[(data.target == 0)&(data.title == 'order')]"
      ],
      "metadata": {
        "id": "4scP4D2guf6F"
      },
      "execution_count": null,
      "outputs": []
    },
    {
      "cell_type": "markdown",
      "source": [
        "Target column shows a good is ordered or not. We can get this information from the title column ('order' value), so I can delete this column too"
      ],
      "metadata": {
        "id": "U153b3oIus9P"
      }
    },
    {
      "cell_type": "code",
      "source": [
        "data = data.drop('target', axis = 1)\n",
        "data.info(memory_usage = 'deep')"
      ],
      "metadata": {
        "id": "a715TJ6eugrC"
      },
      "execution_count": null,
      "outputs": []
    },
    {
      "cell_type": "markdown",
      "source": [
        "We can change object types to category if there are less than 50% percent of unique values. Here I see how much unique values has every column"
      ],
      "metadata": {
        "id": "_DvQfObfu1GF"
      }
    },
    {
      "cell_type": "code",
      "source": [
        "data.select_dtypes('object').nunique()"
      ],
      "metadata": {
        "id": "by_oMf1mu2oW"
      },
      "execution_count": null,
      "outputs": []
    },
    {
      "cell_type": "markdown",
      "source": [
        "The product, site_version and title columns have only 5, 2 and 3 unique values, so it is a good opportunity to change them to the category type"
      ],
      "metadata": {
        "id": "r9CocFpRvMru"
      }
    },
    {
      "cell_type": "code",
      "source": [
        "for col in ['product', 'site_version', 'title']:\n",
        "    data[col] = data[col].astype('category')\n",
        "print(data.info(memory_usage = 'deep'))\n",
        "data.head()"
      ],
      "metadata": {
        "id": "E_xL1OcRvNi9"
      },
      "execution_count": null,
      "outputs": []
    },
    {
      "cell_type": "code",
      "source": [
        "for dtype in ['int','object']:\n",
        "    selected_dtype = data.select_dtypes(include=[dtype])\n",
        "    mean_usage_b = selected_dtype.memory_usage(deep=True).mean()\n",
        "    mean_usage_mb = mean_usage_b / 1024 ** 2\n",
        "    print(\"Average memory usage for {} columns: {:03.2f} MB\".format(dtype,mean_usage_mb))"
      ],
      "metadata": {
        "id": "fXrT7e-tvc8H"
      },
      "execution_count": null,
      "outputs": []
    },
    {
      "cell_type": "code",
      "source": [
        "data['time'] = pd.to_datetime(data['time'])\n",
        "data['date'] = data['time'].dt.date\n",
        "data['hour'] = data['time'].dt.hour\n",
        "data = data.drop('time', axis = 1)\n",
        "data['hour'] = pd.to_numeric(data['hour'])"
      ],
      "metadata": {
        "id": "1Kjgxxp2vfa_"
      },
      "execution_count": null,
      "outputs": []
    },
    {
      "cell_type": "code",
      "source": [
        "data.info()"
      ],
      "metadata": {
        "id": "TgEkWo5mvgp5"
      },
      "execution_count": null,
      "outputs": []
    },
    {
      "cell_type": "markdown",
      "source": [
        "Check missing value"
      ],
      "metadata": {
        "id": "ZCGcyJNDvkT6"
      }
    },
    {
      "cell_type": "code",
      "source": [
        "data.isnull().sum()"
      ],
      "metadata": {
        "id": "YUNisUvRvniO"
      },
      "execution_count": null,
      "outputs": []
    },
    {
      "cell_type": "markdown",
      "source": [
        "Now I have a dataframe with 8 471 220 rows and 6 columns and I am ready to analyse it"
      ],
      "metadata": {
        "id": "1ABnIJFMvp-S"
      }
    },
    {
      "cell_type": "code",
      "source": [
        "data.shape"
      ],
      "metadata": {
        "id": "WrmueOCvvrFR"
      },
      "execution_count": null,
      "outputs": []
    },
    {
      "cell_type": "markdown",
      "source": [
        "Making a copy of the dataframe"
      ],
      "metadata": {
        "id": "2x3zvUwMvvTN"
      }
    },
    {
      "cell_type": "code",
      "source": [
        "data2 = copy.deepcopy(data)"
      ],
      "metadata": {
        "id": "CdFCNbv-vxHZ"
      },
      "execution_count": null,
      "outputs": []
    },
    {
      "cell_type": "markdown",
      "source": [
        "See what products, site versions and page events we have"
      ],
      "metadata": {
        "id": "-yua7vS4v0l3"
      }
    },
    {
      "cell_type": "code",
      "source": [
        "print('Products on banners: ', data2['product'].unique())\n",
        "print('Site versions: ', data2.site_version.unique())\n",
        "print('Page events: ', data2.title.unique())"
      ],
      "metadata": {
        "id": "qdDkuWgnv1Gr"
      },
      "execution_count": null,
      "outputs": []
    },
    {
      "cell_type": "markdown",
      "source": [
        "See site funnel. It has 17% conversion from show to click, 32% conversion from click to order and 5.6% conversion from show to order"
      ],
      "metadata": {
        "id": "o4FnxVYLv3k_"
      }
    },
    {
      "cell_type": "code",
      "source": [
        "fig = go.Figure(go.Funnel(x = data2.groupby('title').user_id.nunique().reset_index().sort_values('user_id', ascending = False)['user_id'],\n",
        "                          y = data2.groupby('title').user_id.nunique().reset_index().sort_values('user_id', ascending = False)['title'],\n",
        "                           textinfo = \"value+percent initial\"))\n",
        "fig.show()"
      ],
      "metadata": {
        "id": "evNHZoWQv7TH"
      },
      "execution_count": null,
      "outputs": []
    },
    {
      "cell_type": "markdown",
      "source": [],
      "metadata": {
        "id": "pJ9kUmnyv8DZ"
      }
    },
    {
      "cell_type": "code",
      "source": [
        "px.funnel(data2.groupby('product').title.value_counts(), x='title', y = data2.groupby('product').title.value_counts().index.get_level_values('title'), \n",
        "          color = data2.groupby('product').title.value_counts().index.get_level_values('product'), title = 'Product funnel')"
      ],
      "metadata": {
        "id": "dSxwliZEv-Yl"
      },
      "execution_count": null,
      "outputs": []
    },
    {
      "cell_type": "markdown",
      "source": [
        "**Mobile users analytics**\n",
        "\n",
        "We have 14% conversion from show to click, 16.2% conversion from click to order and 2.2% from show to order\n"
      ],
      "metadata": {
        "id": "1T7lfrJfwDT-"
      }
    },
    {
      "cell_type": "code",
      "source": [
        "fig = go.Figure(go.Funnel(x = data2[data2.site_version == 'mobile'].title.value_counts().reset_index()['title'],\n",
        "                          y = data2[data2.site_version == 'mobile'].title.value_counts().reset_index()['index'],\n",
        "                           textinfo = \"value+percent initial\"))\n",
        "fig.show()"
      ],
      "metadata": {
        "id": "vVmS37TwwOqx"
      },
      "execution_count": null,
      "outputs": []
    },
    {
      "cell_type": "code",
      "source": [
        "mobile = data2[data2.site_version == 'mobile']\n",
        "mobile['date'] = pd.to_datetime(mobile['date'])\n",
        "mobile"
      ],
      "metadata": {
        "id": "qs81KKqmwX9I"
      },
      "execution_count": null,
      "outputs": []
    },
    {
      "cell_type": "markdown",
      "source": [
        "Checking if seasonal trends exist\n",
        "This is a line through the all time, there are some repeating ups and downs for banner_click and order (it becomes visible when you look at the lines of each action separately, for it you should click the legend)"
      ],
      "metadata": {
        "id": "bQSGk5crwZ5g"
      }
    },
    {
      "cell_type": "code",
      "source": [
        "px.line(mobile.groupby('date').title.value_counts(), x = mobile.groupby('date').title.value_counts().index.get_level_values(0),\n",
        "       y = 'title', color = mobile.groupby('date').title.value_counts().index.get_level_values(1))"
      ],
      "metadata": {
        "id": "Vx-9H6yGwgGv"
      },
      "execution_count": null,
      "outputs": []
    },
    {
      "cell_type": "code",
      "source": [
        "mobile['weekday'] = mobile['date'].dt.weekday\n",
        "mobile"
      ],
      "metadata": {
        "id": "qankILpYwlmY"
      },
      "execution_count": null,
      "outputs": []
    },
    {
      "cell_type": "markdown",
      "source": [
        "For mobile users the highest number of ad showings was between 8 a.m. and 10 a.m. and 4 p.m. and 6 p.m., there is the same statistics for clicks. But orders show another dynamics: the highest number of orders was from 2 p.m. to 5 p.m."
      ],
      "metadata": {
        "id": "txHy5Uh1wnm7"
      }
    },
    {
      "cell_type": "code",
      "source": [
        "px.line(pd.DataFrame(mobile.groupby('hour').title.value_counts()), x = pd.DataFrame(mobile.groupby('hour').title.value_counts()).index.get_level_values(0),\n",
        "        y = pd.DataFrame(mobile.groupby('hour').title.value_counts()).title, color = pd.DataFrame(mobile.groupby('hour').title.value_counts()).index.get_level_values(1),\n",
        "       title = 'Mobile users actions through the day')"
      ],
      "metadata": {
        "id": "NuBVDtlbwoV-"
      },
      "execution_count": null,
      "outputs": []
    },
    {
      "cell_type": "code",
      "source": [
        "data[data.site_version == 'mobile'].groupby('product').title.value_counts()"
      ],
      "metadata": {
        "id": "PkJWlsyAwuSF"
      },
      "execution_count": null,
      "outputs": []
    },
    {
      "cell_type": "code",
      "source": [
        "fig = go.Figure()\n",
        "\n",
        "fig.add_trace(go.Funnel(\n",
        "    name = 'Accessories',\n",
        "    y = [\"banner_show\", \"banner_click\", \"order\"],\n",
        "    x = [1030951,117723,22430],\n",
        "    textinfo = \"value+percent initial\"))\n",
        "\n",
        "fig.add_trace(go.Funnel(\n",
        "    name = 'Clothes',\n",
        "    y = [\"banner_show\", \"banner_click\", \"order\"],\n",
        "    orientation = \"h\",\n",
        "    x = [1035058,187814,45738],\n",
        "    textposition = \"inside\",\n",
        "    textinfo = \"value+percent initial\"))\n",
        "\n",
        "fig.add_trace(go.Funnel(\n",
        "    name = 'Company',\n",
        "    y = [\"banner_show\", \"banner_click\", \"order\"],\n",
        "    orientation = \"h\",\n",
        "    x = [ 1102861,116357, 0],\n",
        "    textposition = \"inside\",\n",
        "    textinfo = \"value+percent initial\"))\n",
        "\n",
        "fig.add_trace(go.Funnel(\n",
        "    name = 'Sneakers',\n",
        "    y = [\"banner_show\", \"banner_click\", \"order\"],\n",
        "    orientation = \"h\",\n",
        "    x = [1041430,161177,35154],\n",
        "    textposition = \"inside\",\n",
        "    textinfo = \"value+percent initial\"))\n",
        "\n",
        "fig.add_trace(go.Funnel(\n",
        "    name = 'Sports_nutrition',\n",
        "    y = [\"banner_show\", \"banner_click\", \"order\"],\n",
        "    orientation = \"h\",\n",
        "    x = [1048375,131048,12219],\n",
        "    textposition = \"inside\",\n",
        "    textinfo = \"value+percent initial\"))\n",
        "\n",
        "fig.show()"
      ],
      "metadata": {
        "id": "DdJD06zrwx3q"
      },
      "execution_count": null,
      "outputs": []
    },
    {
      "cell_type": "markdown",
      "source": [
        "Funnel above shows us:\n",
        "#### the most clickable banners for mobile users are with clothes, also these banners have the highest conversion from click to order (24.4%). It means that clothes has a great demand and banners look attractive and informative (when going to the site, the future client sees the product that he expected to see, with the necessary characteristics);\n",
        "#### banners with sneakers are quite worse than clothes, but although they are clickable and have a 2.8% conversion to order (from click to order 21.8%);\n",
        "#### banners with ports_nutrition have macroconversion 13%, but from click to order it is only 9.3%. Possible problems:\n",
        "#### there is broken links from banner;\n",
        "#### banner attract not target audience (when people go to the site they see not what they want, not what they expect from banner);\n",
        "#### there is not enough informantion about goods on the site, so client stay 'cold' and leave;\n",
        "#### conpetitors give much more cooler than ours (price, quality, assortment etc.)\n",
        "#### banners with accessories are not so clickable (11%), but have a good conversion from the click to order (19.1%). We can make a banner more attractive and increase sales of accessories.\n",
        "#### banners about company are not so clickable for mobile users.\n"
      ],
      "metadata": {
        "id": "Ya3Kh72gw1Fi"
      }
    },
    {
      "cell_type": "code",
      "source": [
        "clicks = mobile[mobile.user_id.isin(mobile[mobile.title == 'banner_click'].user_id.unique())]\n",
        "clicks.sort_values(['user_id', 'date'])\n",
        "orders = mobile[mobile.user_id.isin(mobile[mobile.title == 'order'].user_id.unique())]\n",
        "orders.sort_values(['user_id', 'date'])"
      ],
      "metadata": {
        "id": "A0fd-Iliw4CW"
      },
      "execution_count": null,
      "outputs": []
    },
    {
      "cell_type": "code",
      "source": [
        "orders['step'] = orders['product'].astype('object')+'_'+orders['title'].astype('object')\n",
        "orders = orders.sort_values(['user_id', 'date', 'hour'])"
      ],
      "metadata": {
        "id": "93y7Lcq-w58v"
      },
      "execution_count": null,
      "outputs": []
    },
    {
      "cell_type": "code",
      "source": [
        "px.scatter(orders.groupby(['hour', 'weekday']).step.value_counts(), x = orders.groupby(['hour', 'weekday']).step.value_counts().index.get_level_values(0),\n",
        "           y = orders.groupby(['hour', 'weekday']).step.value_counts().index.get_level_values(1), size = 'step', \n",
        "           color = orders.groupby(['hour', 'weekday']).step.value_counts().index.get_level_values(2), title = 'Lead actions')\n",
        "        "
      ],
      "metadata": {
        "id": "gCinkUfkw7cS"
      },
      "execution_count": null,
      "outputs": []
    },
    {
      "cell_type": "markdown",
      "source": [
        "From chart above I got an information (click the legend to get actions statistics separately):\n",
        "- all of banners were shown at about the same time\n",
        "- the most clickable time for clothes banners is 7-9 a.m., but orders are made throughout the day: from 10 a.m. to midnight;\n",
        "- for sneakers it is the same;\n",
        "- there is no so much clicks for accessories banners, the highest number of it is 7-9 a.m. too., the majority of accessorires are ordered at the daytime (11 a.m.- 8 p.m.)\n",
        "- there is no so much clicks for sport nutrion banners, the highest number of it is 7-9 a.m. too., the majority of sport nutrition are ordered at the daytime (11 a.m.- 8 p.m.)"
      ],
      "metadata": {
        "id": "lVHFBeMCw9-k"
      }
    },
    {
      "cell_type": "code",
      "source": [
        "a = orders.groupby('user_id').step.unique().reset_index()\n",
        "a = a.merge(pd.DataFrame(a['step'].values.tolist()), left_on = pd.DataFrame(a['step'].values.tolist()).index, right_on = a.index)\n",
        "a = a.drop(['key_0','step'], axis = 1)\n",
        "a = a.fillna('No action')"
      ],
      "metadata": {
        "id": "F1mGUho5xJx2"
      },
      "execution_count": null,
      "outputs": []
    },
    {
      "cell_type": "code",
      "source": [
        "px.parallel_categories(a, dimensions = a.columns[1:], title = 'Full customer map journey')"
      ],
      "metadata": {
        "id": "5j4PovbHxNDY"
      },
      "execution_count": null,
      "outputs": []
    },
    {
      "cell_type": "markdown",
      "source": [
        "Check what banners made clients order something after first banner seeing"
      ],
      "metadata": {
        "id": "Tfhl0LDfxQoS"
      }
    },
    {
      "cell_type": "code",
      "source": [
        "after_1 = a[(a[1] == 'clothes_order')|(a[1] == 'accessories_order')|(a[1] == 'sports_nutrition_order')|(a[1] == 'sneakers_order')]\n",
        "px.parallel_categories(after_1, dimensions = after_1.columns[1:])"
      ],
      "metadata": {
        "id": "yD-4VQijxRO-"
      },
      "execution_count": null,
      "outputs": []
    },
    {
      "cell_type": "markdown",
      "source": [
        "As we can see, the majority of first orders (lot's of them are clothes order, then sneakers and accessories) were made after company banner seeing. After this order the majority of people didn't do anything.\n",
        "\n",
        "\n",
        "Check what banners were clicked and then orders were made"
      ],
      "metadata": {
        "id": "n8kNeKHRxUk7"
      }
    },
    {
      "cell_type": "code",
      "source": [
        "after_1 = a[(((a[1] == 'clothes_banner_click')|(a[1] == 'accessories_banner_click')|(a[1] == 'sports_nutrition_banner_click')|(a[1] == 'sneakers_banner_click')|(a[1] == 'company_banner_click'))&\n",
        "             ((a[2] == 'clothes_order')|(a[2] == 'accessories_order')|(a[2] == 'sports_nutrition_order')|(a[2] == 'sneakers_order')))]\n",
        "px.parallel_categories(after_1, dimensions = after_1.columns[1:])"
      ],
      "metadata": {
        "id": "hzbYY6n2xXzt"
      },
      "execution_count": null,
      "outputs": []
    },
    {
      "cell_type": "code",
      "source": [
        "a[(((a[1] == 'clothes_banner_click')|(a[1] == 'accessories_banner_click')|(a[1] == 'sports_nutrition_banner_click')|(a[1] == 'sneakers_banner_click')|(a[1] == 'company_banner_click'))&\n",
        "             ((a[2] == 'clothes_order')|(a[2] == 'accessories_order')|(a[2] == 'sports_nutrition_order')|(a[2] == 'sneakers_order')))].groupby(2)[1].value_counts()"
      ],
      "metadata": {
        "id": "3oE060PjxbFs"
      },
      "execution_count": null,
      "outputs": []
    },
    {
      "cell_type": "markdown",
      "source": [
        "- The least clickable banner for accessories orderer is accessories banner (651 clicks) and company banner (689 clicks) and the most clickable is clothes (1145 clicks). Also making a decision to buy accessories were made after clicking the sneakers banner (967 clicks) and sport_nutrition banner (792 clicks).\n",
        "- For clothes orders the most clickable baneer is with sneakers (2164 clicks). Slightly less conversion to buying clothing from banners with clothes (1697 clicks), sports nutrition (1692 clicks), accessories (1506 clicks) and company (1493 clicks).\n",
        "- For sneakers orders the most clickable banner is with clothes (1841 clicks). Slightly less conversion to buying sneakers from banners with sports nutrition (1234 clicks), sneakers (1225 clicks), company (1215 clicks) and accessories (1138 clicks).\n",
        "- For sport nutrition orders the most clickable banner is clothes (632 clicks). Slightly less conversion to buying sport nutrition from sneakers banner (504 clicks), accessories banners (401 clicks), sport nutrons banner (384 banners) and company banner (374 clicks)"
      ],
      "metadata": {
        "id": "RiFe0WLixdkI"
      }
    },
    {
      "cell_type": "markdown",
      "source": [
        "Check what was going on with people who made first orders after first banner seeing."
      ],
      "metadata": {
        "id": "WijVydNFxjLM"
      }
    },
    {
      "cell_type": "code",
      "source": [
        "after_1_2 = a[((a[1] == 'clothes_order')|(a[1] == 'accessories_order')|(a[1] == 'sports_nutrition_order')|(a[1] == 'sneakers_order'))\n",
        "              &((a[3] == 'clothes_banner_click')|(a[3] == 'accessories_banner_click')|(a[3] == 'sports_nutrition_banner_click')|(a[3] == 'sneakers_banner_click')|\n",
        "               (a[3] == 'clothes_order')|(a[3] == 'accessories_order')|(a[3] == 'sports_nutrition_order')|(a[3] == 'sneakers_order'))]\n",
        "px.parallel_categories(after_1_2, dimensions = after_1_2.columns[3:])"
      ],
      "metadata": {
        "id": "9K2IFuLtxkD8"
      },
      "execution_count": null,
      "outputs": []
    },
    {
      "cell_type": "markdown",
      "source": [
        "They saw different banners, clicked them, but then there was no action anymore. There is only 13 new orders of accessorires after sneakers, nutrion and company banner show and 17 clothes orders after accessories, sneakers and company banner show"
      ],
      "metadata": {
        "id": "JZxNOQTExoky"
      }
    },
    {
      "cell_type": "markdown",
      "source": [
        "Check clicking dynamics for mobile users"
      ],
      "metadata": {
        "id": "BZcLZ7TPxpRl"
      }
    },
    {
      "cell_type": "code",
      "source": [
        "px.line(mobile[mobile.title == 'banner_click'].groupby('date')['product'].value_counts(), \n",
        "        x = mobile[mobile.title == 'banner_click'].groupby('date')['product'].value_counts().index.get_level_values(0),\n",
        "        y = 'product',\n",
        "        color = mobile[mobile.title == 'banner_click'].groupby('date')['product'].value_counts().index.get_level_values(1), title = 'Microconversion from mobile users dynamics')"
      ],
      "metadata": {
        "id": "uxPY4vb3xrY8"
      },
      "execution_count": null,
      "outputs": []
    },
    {
      "cell_type": "markdown",
      "source": [
        "There is a sharp increasing of clicking on company banners from January, 20 to February, 17. Then it started changing in the same way with onther banners. Also there is regular increasings and decreasing for each product (it is seasonal weekly trend (in the start of week there is a increase, in the middle - a decrease, then on thursday we have an increase again, and a decrease on holidays again"
      ],
      "metadata": {
        "id": "C2hiVEg0xvVJ"
      }
    },
    {
      "cell_type": "markdown",
      "source": [
        "Check macroconversion dynamics for mobile users"
      ],
      "metadata": {
        "id": "t6bPdxpwxv3W"
      }
    },
    {
      "cell_type": "code",
      "source": [
        "px.line(mobile[mobile.title == 'order'].groupby(['date', 'weekday'])['product'].value_counts(), \n",
        "        x = mobile[mobile.title == 'order'].groupby(['date', 'weekday'])['product'].value_counts().index.get_level_values(0),\n",
        "        y = 'product',\n",
        "        color = mobile[mobile.title == 'order'].groupby(['date', 'weekday'])['product'].value_counts().index.get_level_values(2), \n",
        "        hover_data = [mobile[mobile.title == 'order'].groupby(['date', 'weekday'])['product'].value_counts().index.get_level_values(1)], \n",
        "        title = 'Macroconversion dynamics from mobile users')"
      ],
      "metadata": {
        "id": "AQR6kt1oxxxp"
      },
      "execution_count": null,
      "outputs": []
    },
    {
      "cell_type": "code",
      "source": [
        "px.bar(pd.DataFrame(mobile.groupby('weekday').title.value_counts()), x = pd.DataFrame(mobile.groupby('weekday').title.value_counts()).index.get_level_values(0),\n",
        "       y = pd.DataFrame(mobile.groupby('weekday').title.value_counts()).title, \n",
        "      color = pd.DataFrame(mobile.groupby('weekday').title.value_counts()).index.get_level_values(1))"
      ],
      "metadata": {
        "id": "9n01NN6px3RK"
      },
      "execution_count": null,
      "outputs": []
    },
    {
      "cell_type": "markdown",
      "source": [
        "**Desktop user analytics**"
      ],
      "metadata": {
        "id": "ROwae7iix-Z2"
      }
    },
    {
      "cell_type": "code",
      "source": [
        "desktop = data2[data2.site_version == 'desktop']\n",
        "desktop['date'] = pd.to_datetime(desktop['date'])\n",
        "desktop"
      ],
      "metadata": {
        "id": "PfHu4t7EyCWl"
      },
      "execution_count": null,
      "outputs": []
    },
    {
      "cell_type": "markdown",
      "source": [
        "This funnel shows that desktop banners have very low clickability, but a very high conversion from click to order. It means that it attracts only 'hot' leads who are ready to buy and who find in assortment exatly what they need. But for 'warm' and 'cold' leads this banner is not so good"
      ],
      "metadata": {
        "id": "Cz1isO2h0iyl"
      }
    },
    {
      "cell_type": "code",
      "source": [
        "fig = go.Figure(go.Funnel(x = data2[data2.site_version == 'desktop'].title.value_counts().reset_index()['title'],\n",
        "                          y = data2[data2.site_version == 'desktop'].title.value_counts().reset_index()['index'],\n",
        "                           textinfo = \"value+percent initial\"))\n",
        "fig.show()"
      ],
      "metadata": {
        "id": "aHA8cUfo0jiD"
      },
      "execution_count": null,
      "outputs": []
    },
    {
      "cell_type": "markdown",
      "source": [
        "On the chart below we can see that in the start of marketing company clickicking and ordering moved in opposite directions: clicking decreased, but ordering decreased, after 3 months they started moving in the same directions, but ordering line was higher"
      ],
      "metadata": {
        "id": "TaHsSut50mwo"
      }
    },
    {
      "cell_type": "code",
      "source": [
        "px.line(desktop.groupby('date').title.value_counts(), x = desktop.groupby('date').title.value_counts().index.get_level_values(0),\n",
        "       y = 'title', color = desktop.groupby('date').title.value_counts().index.get_level_values(1), title = 'Desktop users activity')"
      ],
      "metadata": {
        "id": "7tZEwRvJ0oxf"
      },
      "execution_count": null,
      "outputs": []
    },
    {
      "cell_type": "markdown",
      "source": [
        "For desktop users the highest number of ad showings was between 8 a.m. and 10 a.m. and 4 p.m. and 6 p.m., there is the same statistics for clicks. But orders show another dynamics: the highest number of orders was from 2 p.m. to 5 p.m."
      ],
      "metadata": {
        "id": "vxZhEQ0b0sQb"
      }
    },
    {
      "cell_type": "code",
      "source": [
        "px.line(pd.DataFrame(desktop.groupby('hour').title.value_counts()), x = pd.DataFrame(desktop.groupby('hour').title.value_counts()).index.get_level_values(0),\n",
        "        y = pd.DataFrame(desktop.groupby('hour').title.value_counts()).title, color = pd.DataFrame(desktop.groupby('hour').title.value_counts()).index.get_level_values(1),\n",
        "       title = 'Desktop users actions through the day')"
      ],
      "metadata": {
        "id": "nwl4UTRs0s2W"
      },
      "execution_count": null,
      "outputs": []
    },
    {
      "cell_type": "code",
      "source": [
        "data2[data2.site_version == 'desktop'].groupby('product').title.value_counts()"
      ],
      "metadata": {
        "id": "elg09i4G0wRf"
      },
      "execution_count": null,
      "outputs": []
    },
    {
      "cell_type": "code",
      "source": [
        "fig = go.Figure()\n",
        "\n",
        "fig.add_trace(go.Funnel(\n",
        "    name = 'Accessories',\n",
        "    y = [\"banner_show\", \"banner_click\", \"order\"],\n",
        "    x = [410003, 18531, 22121],\n",
        "    textinfo = \"value+percent initial\"))\n",
        "\n",
        "fig.add_trace(go.Funnel(\n",
        "    name = 'Clothes',\n",
        "    y = [\"banner_show\", \"banner_click\", \"order\"],\n",
        "    orientation = \"h\",\n",
        "    x = [418070, 32781, 66977],\n",
        "    textposition = \"inside\",\n",
        "    textinfo = \"value+percent initial\"))\n",
        "\n",
        "fig.add_trace(go.Funnel(\n",
        "    name = 'Company',\n",
        "    y = [\"banner_show\", \"banner_click\", \"order\"],\n",
        "    orientation = \"h\",\n",
        "    x = [477374,28464,0],\n",
        "    textposition = \"inside\",\n",
        "    textinfo = \"value+percent initial\"))\n",
        "\n",
        "fig.add_trace(go.Funnel(\n",
        "    name = 'Sneakers',\n",
        "    y = [\"banner_show\", \"banner_click\", \"order\"],\n",
        "    orientation = \"h\",\n",
        "    x = [ 411597, 21419, 32565],\n",
        "    textposition = \"inside\",\n",
        "    textinfo = \"value+percent initial\"))\n",
        "\n",
        "fig.add_trace(go.Funnel(\n",
        "    name = 'Sports_nutrition',\n",
        "    y = [\"banner_show\", \"banner_click\", \"order\"],\n",
        "    orientation = \"h\",\n",
        "    x = [417595,13870,11518],\n",
        "    textposition = \"inside\",\n",
        "    textinfo = \"value+percent initial\"))\n",
        "\n",
        "fig.show()"
      ],
      "metadata": {
        "id": "dTATrQCB0y-W"
      },
      "execution_count": null,
      "outputs": []
    },
    {
      "cell_type": "markdown",
      "source": [
        "Funnel above shows that all desktop banners have a lov clickability for all products, but we have a good conversion from click to order. It means that all clients who saw banners made several orders (it does not refer to company banners as it has not conversion to order)"
      ],
      "metadata": {
        "id": "wMFuIDg801AL"
      }
    },
    {
      "cell_type": "code",
      "source": [
        "desktop['weekday'] = desktop['date'].dt.weekday\n",
        "desktop"
      ],
      "metadata": {
        "id": "uB48O61G01y9"
      },
      "execution_count": null,
      "outputs": []
    },
    {
      "cell_type": "code",
      "source": [
        "clicks_desk = desktop[desktop.user_id.isin(desktop[desktop.title == 'banner_click'].user_id.unique())]\n",
        "clicks_desk.sort_values(['user_id', 'date'])\n",
        "orders_desk = desktop[desktop.user_id.isin(desktop[desktop.title == 'order'].user_id.unique())]\n",
        "orders_desk.sort_values(['user_id', 'date'])"
      ],
      "metadata": {
        "id": "pQS-uiJ405CR"
      },
      "execution_count": null,
      "outputs": []
    },
    {
      "cell_type": "code",
      "source": [
        "orders_desk['step'] = orders_desk['product'].astype('object')+'_'+orders_desk['title'].astype('object')\n",
        "orders_desk = orders_desk.sort_values(['user_id', 'date', 'hour'])"
      ],
      "metadata": {
        "id": "S-CVsjSN07Tv"
      },
      "execution_count": null,
      "outputs": []
    },
    {
      "cell_type": "code",
      "source": [
        "px.scatter(orders_desk.groupby(['hour', 'weekday']).step.value_counts(), x = orders_desk.groupby(['hour', 'weekday']).step.value_counts().index.get_level_values(0),\n",
        "           y = orders_desk.groupby(['hour', 'weekday']).step.value_counts().index.get_level_values(1), size = 'step', \n",
        "           color = orders_desk.groupby(['hour', 'weekday']).step.value_counts().index.get_level_values(2), title = 'Lead actions')"
      ],
      "metadata": {
        "id": "w8BXn3E-08_g"
      },
      "execution_count": null,
      "outputs": []
    },
    {
      "cell_type": "markdown",
      "source": [
        "From chart above I got an information (click the legend to get actions statistics separately:\n",
        "- all of banners were shown at about the same time\n",
        "- the most clickable time for clothes banners is 7-9 a.m., but orders are made throughout the day: from 10 a.m. to 11 p.m.;\n",
        "- for sneakers it is the same;\n",
        "- there is no so much clicks for accessories banners, the highest number of it is 7-9 a.m. too., the majority of accessorires are ordered at the daytime (11 a.m.- 8 p.m.)\n",
        "- there is no so much clicks for sport nutrion banners, the highest number of it is 7-9 a.m. too., the majority of sport nutrition are ordered at the daytime (11 a.m.- 8 p.m.)"
      ],
      "metadata": {
        "id": "VXLc_FQH0_vK"
      }
    },
    {
      "cell_type": "code",
      "source": [
        "px.bar(desktop[desktop.title == 'banner_click']['product'].value_counts(), title = 'Microconversion of desktop users')"
      ],
      "metadata": {
        "id": "KQGhnQba1CpR"
      },
      "execution_count": null,
      "outputs": []
    },
    {
      "cell_type": "markdown",
      "source": [
        "There is the highest amount of clicks of desktop users on clothes banners (32K), then company banners (28.5K), sneakers (21.5K), accessories (18.5K) and the least amount on sports nutrition banners (13K)"
      ],
      "metadata": {
        "id": "Ak4Q6ny41HoV"
      }
    },
    {
      "cell_type": "code",
      "source": [
        "px.line(desktop[desktop.title == 'banner_click'].groupby('date')['product'].value_counts(), \n",
        "        x = desktop[desktop.title == 'banner_click'].groupby('date')['product'].value_counts().index.get_level_values(0),\n",
        "        y = 'product',\n",
        "        color = desktop[desktop.title == 'banner_click'].groupby('date')['product'].value_counts().index.get_level_values(1), title = 'Microconversion from desktop users')"
      ],
      "metadata": {
        "id": "qQUO8pGA1Fsc"
      },
      "execution_count": null,
      "outputs": []
    },
    {
      "cell_type": "markdown",
      "source": [
        "The chart above shows that from january, 20 to March, 3 there were increasing of clicking a company banner and desreasing of clicking all other banners, but from middle of March they started mving in the same directions"
      ],
      "metadata": {
        "id": "cUYlkV9w1Lio"
      }
    },
    {
      "cell_type": "markdown",
      "source": [
        "Check macroconversion dynamics from the destop users"
      ],
      "metadata": {
        "id": "M2A49g2e1MKd"
      }
    },
    {
      "cell_type": "code",
      "source": [
        "px.line(desktop[desktop.title == 'order'].groupby('date')['product'].value_counts(), \n",
        "        x = desktop[desktop.title == 'order'].groupby('date')['product'].value_counts().index.get_level_values(0),\n",
        "        y = 'product',\n",
        "        color = desktop[desktop.title == 'order'].groupby('date')['product'].value_counts().index.get_level_values(1), title = 'Macroconversion from mobile users')"
      ],
      "metadata": {
        "id": "2yLmQtwm1P0M"
      },
      "execution_count": null,
      "outputs": []
    },
    {
      "cell_type": "markdown",
      "source": [
        "We can see that clothes macroconversion is much higher, than others. Also there is regular increasings and decreasings for each product"
      ],
      "metadata": {
        "id": "bzDg6JDs1S-K"
      }
    },
    {
      "cell_type": "code",
      "source": [
        "desktop[desktop.title == 'order'].groupby(['date', 'weekday'])['product'].value_counts()"
      ],
      "metadata": {
        "id": "QErR3w7N1SOC"
      },
      "execution_count": null,
      "outputs": []
    },
    {
      "cell_type": "code",
      "source": [
        "px.line(desktop[desktop.title == 'order'].groupby(['date', 'weekday'])['product'].value_counts(), \n",
        "        x = desktop[desktop.title == 'order'].groupby(['date', 'weekday'])['product'].value_counts().index.get_level_values(0),\n",
        "        y = 'product',\n",
        "        color = desktop[desktop.title == 'order'].groupby(['date', 'weekday'])['product'].value_counts().index.get_level_values(2), title = 'Macroconversion from mobile users',\n",
        "       hover_data = [desktop[desktop.title == 'order'].groupby(['date', 'weekday'])['product'].value_counts().index.get_level_values(1)])"
      ],
      "metadata": {
        "id": "Mnxxz8Wn1XnV"
      },
      "execution_count": null,
      "outputs": []
    },
    {
      "cell_type": "markdown",
      "source": [
        "These increasings and decreasings are weekly seasonality: there is high amount of orders on Monday, then it decreases to the middle of the week and so on"
      ],
      "metadata": {
        "id": "5lXiuQsD1bz-"
      }
    },
    {
      "cell_type": "code",
      "source": [
        "clicks = desktop[desktop.user_id.isin(desktop[desktop.title == 'banner_click'].user_id.unique())]\n",
        "clicks.sort_values(['user_id', 'date'])\n",
        "orders = desktop[desktop.user_id.isin(desktop[desktop.title == 'order'].user_id.unique())]\n",
        "orders.sort_values(['user_id', 'date'])"
      ],
      "metadata": {
        "id": "sET8weuI1c_K"
      },
      "execution_count": null,
      "outputs": []
    },
    {
      "cell_type": "code",
      "source": [
        "orders['step'] = orders['product'].astype('object')+'_'+orders['title'].astype('object')\n",
        "orders = orders.sort_values(['user_id', 'date', 'hour'])"
      ],
      "metadata": {
        "id": "GooAlpfx1f4Q"
      },
      "execution_count": null,
      "outputs": []
    },
    {
      "cell_type": "code",
      "source": [
        "px.scatter(orders.groupby(['hour', 'weekday']).step.value_counts(), x = orders.groupby(['hour', 'weekday']).step.value_counts().index.get_level_values(0),\n",
        "           y = orders.groupby(['hour', 'weekday']).step.value_counts().index.get_level_values(1), size = 'step', \n",
        "           color = orders.groupby(['hour', 'weekday']).step.value_counts().index.get_level_values(2), title = 'Lead actions')"
      ],
      "metadata": {
        "id": "8QXCjGhZ1hfL"
      },
      "execution_count": null,
      "outputs": []
    },
    {
      "cell_type": "markdown",
      "source": [
        "From chart above I got an information (click the legend to get actions statistics separately:\n",
        "- if we consider amount of clicks and orders, we can see that amount of clicks is much less than amount of orders. It makes me think that pe\n",
        "- all of banners were shown at about the same time (the highest amount of showings was from 7 to 9 a.m. and from 4 to 6 p.m.\n",
        "- the most clickable time for clothes banners is 7-9 a.m., but orders are made throughout the day: from 10 a.m. to midnight;\n",
        "- for sneakers it is the same;\n",
        "- there is no so much clicks for accessories banners, the highest number of it is 7-9 a.m. too., the majority of accessorires are ordered at the daytime (11 a.m.- 8 p.m.)\n",
        "- there is no so much clicks for sport nutrion banners, the highest number of it is 7-9 a.m. too., the majority of sport nutrition are ordered at the daytime (11 a.m.- 8 p.m.)"
      ],
      "metadata": {
        "id": "aGRic5sf1jzw"
      }
    },
    {
      "cell_type": "code",
      "source": [
        "a = orders.groupby('user_id').step.unique().reset_index()\n",
        "a = a.merge(pd.DataFrame(a['step'].values.tolist()), left_on = pd.DataFrame(a['step'].values.tolist()).index, right_on = a.index)\n",
        "a = a.drop(['key_0','step'], axis = 1)\n",
        "a = a.fillna('No action')"
      ],
      "metadata": {
        "id": "Ms6Yks5K1qDZ"
      },
      "execution_count": null,
      "outputs": []
    },
    {
      "cell_type": "code",
      "source": [
        "px.parallel_categories(a, dimensions = a.columns[1:], title = 'Full customer map journey')"
      ],
      "metadata": {
        "id": "FwmSuplH1sBJ"
      },
      "execution_count": null,
      "outputs": []
    },
    {
      "cell_type": "code",
      "source": [
        "after_1 = a[(a[1] == 'clothes_order')|(a[1] == 'accessories_order')|(a[1] == 'sports_nutrition_order')|(a[1] == 'sneakers_order')]\n",
        "px.parallel_categories(after_1, dimensions = after_1.columns[1:])"
      ],
      "metadata": {
        "id": "yNeeTMmF1utJ"
      },
      "execution_count": null,
      "outputs": []
    },
    {
      "cell_type": "markdown",
      "source": [
        "From graphics above we can see that majority of first orders are clothes orders, the second one by amount of orders is sneakers. The majority of first orders were made after company banner seeing"
      ],
      "metadata": {
        "id": "PRqHmLVe1xSR"
      }
    },
    {
      "cell_type": "markdown",
      "source": [
        "Check what banners were clicked before first order was made"
      ],
      "metadata": {
        "id": "KyCKUcI61xyb"
      }
    },
    {
      "cell_type": "code",
      "source": [
        "after_1 = a[(((a[1] == 'clothes_banner_click')|(a[1] == 'accessories_banner_click')|(a[1] == 'sports_nutrition_banner_click')|(a[1] == 'sneakers_banner_click')|(a[1] == 'company_banner_click'))&\n",
        "             ((a[2] == 'clothes_order')|(a[2] == 'accessories_order')|(a[2] == 'sports_nutrition_order')|(a[2] == 'sneakers_order')))]\n",
        "px.parallel_categories(after_1, dimensions = after_1.columns[1:])"
      ],
      "metadata": {
        "id": "jBmu20Vr10xU"
      },
      "execution_count": null,
      "outputs": []
    },
    {
      "cell_type": "code",
      "source": [
        "a[(((a[1] == 'clothes_banner_click')|(a[1] == 'accessories_banner_click')|(a[1] == 'sports_nutrition_banner_click')|(a[1] == 'sneakers_banner_click')|(a[1] == 'company_banner_click'))&\n",
        "             ((a[2] == 'clothes_order')|(a[2] == 'accessories_order')|(a[2] == 'sports_nutrition_order')|(a[2] == 'sneakers_order')))].groupby(2)[1].value_counts()"
      ],
      "metadata": {
        "id": "TQHjKI7F13ah"
      },
      "execution_count": null,
      "outputs": []
    },
    {
      "cell_type": "markdown",
      "source": [
        "- The majority of clothes orders were made after company banner clicks (2011 clicks) and clothes banner clicks (1133 clicks). Much less conversion from sneakers banner clicks (533 clicks), accessroies banner clicks (511 clicks) and sports nutrition banners (329 clicks)\n",
        "- The majority of sneakers orders were made after clothes banner clicks (556) and company banner clicks (503). Slightly less conversion from sneakers banners (393), accessorires (332) and sport nutrition banners (243)\n",
        "- The majority of accessories orders were made after clothes banner clicks (405) and company banner clicks (334). Slightly less conversion from sneakers banner clicks (261), accessories banner clicks (257)\n",
        "- The majority of sports nutrition orders were made after clothes banner clicks (203). Less conversion from company banner clicks (161), sneakers banner clisks (123), accessories banner clicks (111), sports nutrition banner clicks (102)"
      ],
      "metadata": {
        "id": "BZHTUCWB15z_"
      }
    },
    {
      "cell_type": "markdown",
      "source": [
        "Check what was going on with people who made first orders after first banner seeing"
      ],
      "metadata": {
        "id": "n-YL9ETN180I"
      }
    },
    {
      "cell_type": "code",
      "source": [
        "after_1_2 = a[((a[1] == 'clothes_order')|(a[1] == 'accessories_order')|(a[1] == 'sports_nutrition_order')|(a[1] == 'sneakers_order'))\n",
        "              &((a[3] == 'clothes_banner_click')|(a[3] == 'accessories_banner_click')|(a[3] == 'sports_nutrition_banner_click')|(a[3] == 'sneakers_banner_click')|\n",
        "               (a[3] == 'clothes_order')|(a[3] == 'accessories_order')|(a[3] == 'sports_nutrition_order')|(a[3] == 'sneakers_order'))]\n",
        "px.parallel_categories(after_1_2, dimensions = after_1_2.columns[3:])"
      ],
      "metadata": {
        "id": "kykOBcU619uO"
      },
      "execution_count": null,
      "outputs": []
    },
    {
      "cell_type": "markdown",
      "source": [
        "The majority of them clicked different banners but after that there was no action. But about 160 people made a second purchase (they came from different banners)"
      ],
      "metadata": {
        "id": "Fon1DIzQ2BCu"
      }
    }
  ]
}